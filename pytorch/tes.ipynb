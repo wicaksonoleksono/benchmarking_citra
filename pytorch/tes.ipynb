{
 "cells": [
  {
   "cell_type": "code",
   "execution_count": 12,
   "id": "a3c1ecbd",
   "metadata": {},
   "outputs": [],
   "source": [
    "from get_dataloader import get_dataloaders\n",
    "from model import init_model"
   ]
  },
  {
   "cell_type": "code",
   "execution_count": null,
   "id": "5c917c72",
   "metadata": {},
   "outputs": [],
   "source": []
  },
  {
   "cell_type": "code",
   "execution_count": 13,
   "id": "31591096",
   "metadata": {},
   "outputs": [
    {
     "name": "stdout",
     "output_type": "stream",
     "text": [
      "Loaded 3169/793/991 samples across 10 classes.\n"
     ]
    }
   ],
   "source": [
    "\n",
    "train,val, test_loader, _ = get_dataloaders(data_path=\"./data/aggregated/\")"
   ]
  },
  {
   "cell_type": "code",
   "execution_count": null,
   "id": "393605e9",
   "metadata": {},
   "outputs": [],
   "source": []
  },
  {
   "cell_type": "markdown",
   "id": "a26c1eed",
   "metadata": {},
   "source": []
  },
  {
   "cell_type": "code",
   "execution_count": 14,
   "id": "92dd2d97",
   "metadata": {},
   "outputs": [
    {
     "data": {
      "image/png": "[encoded data removed]",
      "text/plain": [
       "<Figure size 640x480 with 1 Axes>"
      ]
     },
     "metadata": {},
     "output_type": "display_data"
    }
   ],
   "source": [
    "import matplotlib.pyplot as plt\n",
    "import numpy as np\n",
    "\n",
    "def denormalize(tensor, mean=(0.485, 0.456, 0.406), std=(0.229, 0.224, 0.225)):\n",
    "    tensor = tensor.clone().detach().cpu()  \n",
    "    tensor = tensor.permute(1, 2, 0)      \n",
    "    tensor = tensor.numpy()                 \n",
    "    \n",
    "    # Denormalize\n",
    "    tensor = tensor * std + mean\n",
    "    tensor = np.clip(tensor, 0, 1)          \n",
    "    return tensor\n",
    "def imshow(img, title=None):\n",
    "    \"\"\"Display image for a Tensor.\"\"\"\n",
    "    img = denormalize(img)\n",
    "    plt.imshow(img)\n",
    "    if title is not None:\n",
    "        plt.title(title)\n",
    "    plt.axis('off')\n",
    "images, labels = next(iter(train))\n",
    "\n",
    "imshow(images[0])\n",
    "plt.show()"
   ]
  },
  {
   "cell_type": "code",
   "execution_count": null,
   "id": "9554166a",
   "metadata": {},
   "outputs": [],
   "source": []
  },
  {
   "cell_type": "code",
   "execution_count": null,
   "id": "d156eeca",
   "metadata": {},
   "outputs": [],
   "source": []
  }
 ],
 "metadata": {
  "kernelspec": {
   "display_name": "torch_env",
   "language": "python",
   "name": "python3"
  },
  "language_info": {
   "codemirror_mode": {
    "name": "ipython",
    "version": 3
   },
   "file_extension": ".py",
   "mimetype": "text/x-python",
   "name": "python",
   "nbconvert_exporter": "python",
   "pygments_lexer": "ipython3",
   "version": "3.10.16"
  }
 },
 "nbformat": 4,
 "nbformat_minor": 5
}
