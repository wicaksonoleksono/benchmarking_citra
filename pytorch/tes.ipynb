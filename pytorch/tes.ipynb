{
 "cells": [
  {
   "cell_type": "code",
   "execution_count": 1,
   "id": "a3c1ecbd",
   "metadata": {},
   "outputs": [],
   "source": [
    "from get_dataloader import get_dataloaders\n",
    "from model import init_mobilenetv3_models"
   ]
  },
  {
   "cell_type": "code",
   "execution_count": 5,
   "id": "31591096",
   "metadata": {},
   "outputs": [
    {
     "name": "stdout",
     "output_type": "stream",
     "text": [
      "Dataset downloaded to: /home/wicaksonolxn/.cache/kagglehub/datasets/jonathanoheix/face-expression-recognition-dataset/versions/1\n",
      "Dataset loaded successfully!\n",
      "Number of training samples: 28821\n",
      "Number of validation samples: 3533\n",
      "Number of test samples: 3533\n",
      "Number of classes: 7\n"
     ]
    }
   ],
   "source": [
    "train,valid,test,class_to_idx=get_dataloaders()"
   ]
  },
  {
   "cell_type": "code",
   "execution_count": null,
   "id": "859da898",
   "metadata": {},
   "outputs": [
    {
     "name": "stdout",
     "output_type": "stream",
     "text": [
      "Batch #0\n",
      " images: <class 'torch.Tensor'> torch.Size([32, 3, 224, 224]) torch.float32\n",
      " labels: <class 'torch.Tensor'> torch.Size([32]) torch.int64\n",
      " one image tensor:\n",
      " tensor([[[-2.0837, -2.0837, -2.0837,  ..., -2.0837, -2.0837, -2.0837],\n",
      "         [-2.0837, -2.0837, -2.0837,  ..., -2.0837, -2.0837, -2.0837],\n",
      "         [-2.0837, -2.0837, -2.0837,  ..., -2.0837, -2.0837, -2.0837],\n",
      "         ...,\n",
      "         [-2.0837, -2.0837, -2.0837,  ..., -2.0837, -2.0837, -2.0837],\n",
      "         [-2.0837, -2.0837, -2.0837,  ..., -2.0837, -2.0837, -2.0837],\n",
      "         [-2.0837, -2.0837, -2.0837,  ..., -2.0837, -2.0837, -2.0837]],\n",
      "\n",
      "        [[-2.0007, -2.0007, -2.0007,  ..., -2.0007, -2.0007, -2.0007],\n",
      "         [-2.0007, -2.0007, -2.0007,  ..., -2.0007, -2.0007, -2.0007],\n",
      "         [-2.0007, -2.0007, -2.0007,  ..., -2.0007, -2.0007, -2.0007],\n",
      "         ...,\n",
      "         [-2.0007, -2.0007, -2.0007,  ..., -2.0007, -2.0007, -2.0007],\n",
      "         [-2.0007, -2.0007, -2.0007,  ..., -2.0007, -2.0007, -2.0007],\n",
      "         [-2.0007, -2.0007, -2.0007,  ..., -2.0007, -2.0007, -2.0007]],\n",
      "\n",
      "        [[-1.7696, -1.7696, -1.7696,  ..., -1.7696, -1.7696, -1.7696],\n",
      "         [-1.7696, -1.7696, -1.7696,  ..., -1.7696, -1.7696, -1.7696],\n",
      "         [-1.7696, -1.7696, -1.7696,  ..., -1.7696, -1.7696, -1.7696],\n",
      "         ...,\n",
      "         [-1.7696, -1.7696, -1.7696,  ..., -1.7696, -1.7696, -1.7696],\n",
      "         [-1.7696, -1.7696, -1.7696,  ..., -1.7696, -1.7696, -1.7696],\n",
      "         [-1.7696, -1.7696, -1.7696,  ..., -1.7696, -1.7696, -1.7696]]])\n",
      " one label: tensor(4)\n"
     ]
    }
   ],
   "source": [
    "for i, batch in enumerate(train):\n",
    "    images, labels = batch\n",
    "    print(f\"Batch #{i}\")\n",
    "    print(\" images:\",  type(images), images.shape, images.dtype)\n",
    "    print(\" labels:\",  type(labels), labels.shape, labels.dtype)\n",
    "    print(\" one image tensor:\\n\", images[0])\n",
    "    print(\" one label:\", labels[0])\n",
    "    break   # just look at the first batch"
   ]
  },
  {
   "cell_type": "code",
   "execution_count": null,
   "id": "9554166a",
   "metadata": {},
   "outputs": [],
   "source": []
  }
 ],
 "metadata": {
  "kernelspec": {
   "display_name": "torch_env",
   "language": "python",
   "name": "python3"
  },
  "language_info": {
   "codemirror_mode": {
    "name": "ipython",
    "version": 3
   },
   "file_extension": ".py",
   "mimetype": "text/x-python",
   "name": "python",
   "nbconvert_exporter": "python",
   "pygments_lexer": "ipython3",
   "version": "3.10.16"
  }
 },
 "nbformat": 4,
 "nbformat_minor": 5
}
