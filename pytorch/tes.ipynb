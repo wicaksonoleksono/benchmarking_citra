{
 "cells": [
  {
   "cell_type": "code",
   "execution_count": 7,
   "id": "c0193e55",
   "metadata": {},
   "outputs": [],
   "source": [
    "import torch\n",
    "from model import init_model\n",
    "from get_dataloader import get_dataloaders\n"
   ]
  },
  {
   "cell_type": "code",
   "execution_count": 10,
   "id": "530891e0",
   "metadata": {},
   "outputs": [
    {
     "name": "stdout",
     "output_type": "stream",
     "text": [
      "Class anger -> index 0\n",
      "  Found 527 images for class anger\n",
      "Class contempt -> index 1\n",
      "  Found 537 images for class contempt\n",
      "Class disgust -> index 2\n",
      "  Found 528 images for class disgust\n",
      "Class embarrass -> index 3\n",
      "  Found 503 images for class embarrass\n",
      "Class fear -> index 4\n",
      "  Found 527 images for class fear\n",
      "Class joy -> index 5\n",
      "  Found 526 images for class joy\n",
      "Class neutral -> index 6\n",
      "  Found 527 images for class neutral\n",
      "Class pride -> index 7\n",
      "  Found 483 images for class pride\n",
      "Class sadness -> index 8\n",
      "  Found 529 images for class sadness\n",
      "Class surprise -> index 9\n",
      "  Found 501 images for class surprise\n",
      "Total images: 5188\n",
      "Number of classes: 10\n",
      "Label range: min=0, max=9\n"
     ]
    },
    {
     "ename": "RuntimeError",
     "evalue": "Unknown model (proxyless_nas)",
     "output_type": "error",
     "traceback": [
      "\u001b[0;31m---------------------------------------------------------------------------\u001b[0m",
      "\u001b[0;31mRuntimeError\u001b[0m                              Traceback (most recent call last)",
      "Cell \u001b[0;32mIn[10], line 1\u001b[0m\n\u001b[0;32m----> 1\u001b[0m train,val, test_loader, _ \u001b[38;5;241m=\u001b[39m \u001b[43mget_dataloaders\u001b[49m\u001b[43m(\u001b[49m\u001b[43mdata_path\u001b[49m\u001b[38;5;241;43m=\u001b[39;49m\u001b[38;5;124;43m\"\u001b[39;49m\u001b[38;5;124;43m./data/content/structured_dataset/\u001b[39;49m\u001b[38;5;124;43m\"\u001b[39;49m\u001b[43m,\u001b[49m\u001b[43mmodel_name\u001b[49m\u001b[38;5;241;43m=\u001b[39;49m\u001b[38;5;124;43m\"\u001b[39;49m\u001b[38;5;124;43mproxyless_nas\u001b[39;49m\u001b[38;5;124;43m\"\u001b[39;49m\u001b[43m)\u001b[49m\n",
      "File \u001b[0;32m~/Documents/LMP/Benchmarking/pytorch/get_dataloader.py:116\u001b[0m, in \u001b[0;36mget_dataloaders\u001b[0;34m(data_path, batch_size, num_workers, test_split, seed, model_name)\u001b[0m\n\u001b[1;32m    104\u001b[0m train_paths, test_paths, train_labels, test_labels \u001b[38;5;241m=\u001b[39m train_test_split(\n\u001b[1;32m    105\u001b[0m     all_paths, all_labels,\n\u001b[1;32m    106\u001b[0m     test_size\u001b[38;5;241m=\u001b[39mtest_split,\n\u001b[1;32m    107\u001b[0m     random_state\u001b[38;5;241m=\u001b[39mseed,\n\u001b[1;32m    108\u001b[0m     stratify\u001b[38;5;241m=\u001b[39mall_labels\n\u001b[1;32m    109\u001b[0m )\n\u001b[1;32m    110\u001b[0m train_paths, val_paths, train_labels, val_labels \u001b[38;5;241m=\u001b[39m train_test_split(\n\u001b[1;32m    111\u001b[0m     train_paths, train_labels,\n\u001b[1;32m    112\u001b[0m     test_size\u001b[38;5;241m=\u001b[39mtest_split,\n\u001b[1;32m    113\u001b[0m     random_state\u001b[38;5;241m=\u001b[39mseed,\n\u001b[1;32m    114\u001b[0m     stratify\u001b[38;5;241m=\u001b[39mtrain_labels\n\u001b[1;32m    115\u001b[0m )\n\u001b[0;32m--> 116\u001b[0m train_tf, val_tf \u001b[38;5;241m=\u001b[39m \u001b[43mget_auto_transforms\u001b[49m\u001b[43m(\u001b[49m\u001b[43mmodel_name\u001b[49m\u001b[43m)\u001b[49m\n\u001b[1;32m    117\u001b[0m train_ds \u001b[38;5;241m=\u001b[39m FaceExpressionDataset(train_paths, train_labels, train_tf)\n\u001b[1;32m    118\u001b[0m val_ds \u001b[38;5;241m=\u001b[39m FaceExpressionDataset(val_paths, val_labels, val_tf)\n",
      "File \u001b[0;32m~/Documents/LMP/Benchmarking/pytorch/get_dataloader.py:67\u001b[0m, in \u001b[0;36mget_auto_transforms\u001b[0;34m(model_name, pretrained)\u001b[0m\n\u001b[1;32m     66\u001b[0m \u001b[38;5;28;01mdef\u001b[39;00m \u001b[38;5;21mget_auto_transforms\u001b[39m(model_name: \u001b[38;5;28mstr\u001b[39m, pretrained: \u001b[38;5;28mbool\u001b[39m \u001b[38;5;241m=\u001b[39m \u001b[38;5;28;01mTrue\u001b[39;00m):\n\u001b[0;32m---> 67\u001b[0m     model \u001b[38;5;241m=\u001b[39m \u001b[43mtimm\u001b[49m\u001b[38;5;241;43m.\u001b[39;49m\u001b[43mcreate_model\u001b[49m\u001b[43m(\u001b[49m\u001b[43mmodel_name\u001b[49m\u001b[43m,\u001b[49m\u001b[43m \u001b[49m\u001b[43mpretrained\u001b[49m\u001b[38;5;241;43m=\u001b[39;49m\u001b[43mpretrained\u001b[49m\u001b[43m)\u001b[49m\n\u001b[1;32m     68\u001b[0m     data_cfg \u001b[38;5;241m=\u001b[39m timm\u001b[38;5;241m.\u001b[39mdata\u001b[38;5;241m.\u001b[39mresolve_model_data_config(model)\n\u001b[1;32m     69\u001b[0m     train_tf \u001b[38;5;241m=\u001b[39m timm\u001b[38;5;241m.\u001b[39mdata\u001b[38;5;241m.\u001b[39mcreate_transform(\u001b[38;5;241m*\u001b[39m\u001b[38;5;241m*\u001b[39mdata_cfg, is_training\u001b[38;5;241m=\u001b[39m\u001b[38;5;28;01mTrue\u001b[39;00m)\n",
      "File \u001b[0;32m~/miniconda3/envs/torch_env/lib/python3.10/site-packages/timm/models/_factory.py:122\u001b[0m, in \u001b[0;36mcreate_model\u001b[0;34m(model_name, pretrained, pretrained_cfg, pretrained_cfg_overlay, checkpoint_path, cache_dir, scriptable, exportable, no_jit, **kwargs)\u001b[0m\n\u001b[1;32m    119\u001b[0m         pretrained_cfg \u001b[38;5;241m=\u001b[39m pretrained_tag\n\u001b[1;32m    121\u001b[0m \u001b[38;5;28;01mif\u001b[39;00m \u001b[38;5;129;01mnot\u001b[39;00m is_model(model_name):\n\u001b[0;32m--> 122\u001b[0m     \u001b[38;5;28;01mraise\u001b[39;00m \u001b[38;5;167;01mRuntimeError\u001b[39;00m(\u001b[38;5;124m'\u001b[39m\u001b[38;5;124mUnknown model (\u001b[39m\u001b[38;5;132;01m%s\u001b[39;00m\u001b[38;5;124m)\u001b[39m\u001b[38;5;124m'\u001b[39m \u001b[38;5;241m%\u001b[39m model_name)\n\u001b[1;32m    124\u001b[0m create_fn \u001b[38;5;241m=\u001b[39m model_entrypoint(model_name)\n\u001b[1;32m    125\u001b[0m \u001b[38;5;28;01mwith\u001b[39;00m set_layer_config(scriptable\u001b[38;5;241m=\u001b[39mscriptable, exportable\u001b[38;5;241m=\u001b[39mexportable, no_jit\u001b[38;5;241m=\u001b[39mno_jit):\n",
      "\u001b[0;31mRuntimeError\u001b[0m: Unknown model (proxyless_nas)"
     ]
    }
   ],
   "source": [
    "train,val, test_loader, _ = get_dataloaders(data_path=\"./data/content/structured_dataset/\",model_name=\"proxyless_nas\")"
   ]
  },
  {
   "cell_type": "code",
   "execution_count": 5,
   "id": "65315d7c",
   "metadata": {},
   "outputs": [
    {
     "name": "stderr",
     "output_type": "stream",
     "text": [
      "Using cache found in /home/wicaksonolxn/.cache/torch/hub/mit-han-lab_ProxylessNAS_master\n"
     ]
    },
    {
     "data": {
      "text/plain": [
       "ProxylessNASNets(\n",
       "  (first_conv): ConvLayer(\n",
       "    (bn): BatchNorm2d(40, eps=0.001, momentum=0.1, affine=True, track_running_stats=True)\n",
       "    (activation): ReLU6(inplace=True)\n",
       "    (conv): Conv2d(3, 40, kernel_size=(3, 3), stride=(2, 2), padding=(1, 1), bias=False)\n",
       "  )\n",
       "  (blocks): ModuleList(\n",
       "    (0): MobileInvertedResidualBlock(\n",
       "      (mobile_inverted_conv): MBInvertedConvLayer(\n",
       "        (depth_conv): Sequential(\n",
       "          (conv): Conv2d(40, 40, kernel_size=(3, 3), stride=(1, 1), padding=(1, 1), groups=40, bias=False)\n",
       "          (bn): BatchNorm2d(40, eps=0.001, momentum=0.1, affine=True, track_running_stats=True)\n",
       "          (relu): ReLU6(inplace=True)\n",
       "        )\n",
       "        (point_linear): Sequential(\n",
       "          (conv): Conv2d(40, 24, kernel_size=(1, 1), stride=(1, 1), bias=False)\n",
       "          (bn): BatchNorm2d(24, eps=0.001, momentum=0.1, affine=True, track_running_stats=True)\n",
       "        )\n",
       "      )\n",
       "    )\n",
       "    (1): MobileInvertedResidualBlock(\n",
       "      (mobile_inverted_conv): MBInvertedConvLayer(\n",
       "        (inverted_bottleneck): Sequential(\n",
       "          (conv): Conv2d(24, 72, kernel_size=(1, 1), stride=(1, 1), bias=False)\n",
       "          (bn): BatchNorm2d(72, eps=0.001, momentum=0.1, affine=True, track_running_stats=True)\n",
       "          (relu): ReLU6(inplace=True)\n",
       "        )\n",
       "        (depth_conv): Sequential(\n",
       "          (conv): Conv2d(72, 72, kernel_size=(5, 5), stride=(2, 2), padding=(2, 2), groups=72, bias=False)\n",
       "          (bn): BatchNorm2d(72, eps=0.001, momentum=0.1, affine=True, track_running_stats=True)\n",
       "          (relu): ReLU6(inplace=True)\n",
       "        )\n",
       "        (point_linear): Sequential(\n",
       "          (conv): Conv2d(72, 32, kernel_size=(1, 1), stride=(1, 1), bias=False)\n",
       "          (bn): BatchNorm2d(32, eps=0.001, momentum=0.1, affine=True, track_running_stats=True)\n",
       "        )\n",
       "      )\n",
       "    )\n",
       "    (2-4): 3 x MobileInvertedResidualBlock(\n",
       "      (mobile_inverted_conv): ZeroLayer()\n",
       "      (shortcut): IdentityLayer()\n",
       "    )\n",
       "    (5): MobileInvertedResidualBlock(\n",
       "      (mobile_inverted_conv): MBInvertedConvLayer(\n",
       "        (inverted_bottleneck): Sequential(\n",
       "          (conv): Conv2d(32, 96, kernel_size=(1, 1), stride=(1, 1), bias=False)\n",
       "          (bn): BatchNorm2d(96, eps=0.001, momentum=0.1, affine=True, track_running_stats=True)\n",
       "          (relu): ReLU6(inplace=True)\n",
       "        )\n",
       "        (depth_conv): Sequential(\n",
       "          (conv): Conv2d(96, 96, kernel_size=(7, 7), stride=(2, 2), padding=(3, 3), groups=96, bias=False)\n",
       "          (bn): BatchNorm2d(96, eps=0.001, momentum=0.1, affine=True, track_running_stats=True)\n",
       "          (relu): ReLU6(inplace=True)\n",
       "        )\n",
       "        (point_linear): Sequential(\n",
       "          (conv): Conv2d(96, 56, kernel_size=(1, 1), stride=(1, 1), bias=False)\n",
       "          (bn): BatchNorm2d(56, eps=0.001, momentum=0.1, affine=True, track_running_stats=True)\n",
       "        )\n",
       "      )\n",
       "    )\n",
       "    (6-7): 2 x MobileInvertedResidualBlock(\n",
       "      (mobile_inverted_conv): ZeroLayer()\n",
       "      (shortcut): IdentityLayer()\n",
       "    )\n",
       "    (8): MobileInvertedResidualBlock(\n",
       "      (mobile_inverted_conv): MBInvertedConvLayer(\n",
       "        (inverted_bottleneck): Sequential(\n",
       "          (conv): Conv2d(56, 168, kernel_size=(1, 1), stride=(1, 1), bias=False)\n",
       "          (bn): BatchNorm2d(168, eps=0.001, momentum=0.1, affine=True, track_running_stats=True)\n",
       "          (relu): ReLU6(inplace=True)\n",
       "        )\n",
       "        (depth_conv): Sequential(\n",
       "          (conv): Conv2d(168, 168, kernel_size=(3, 3), stride=(1, 1), padding=(1, 1), groups=168, bias=False)\n",
       "          (bn): BatchNorm2d(168, eps=0.001, momentum=0.1, affine=True, track_running_stats=True)\n",
       "          (relu): ReLU6(inplace=True)\n",
       "        )\n",
       "        (point_linear): Sequential(\n",
       "          (conv): Conv2d(168, 56, kernel_size=(1, 1), stride=(1, 1), bias=False)\n",
       "          (bn): BatchNorm2d(56, eps=0.001, momentum=0.1, affine=True, track_running_stats=True)\n",
       "        )\n",
       "      )\n",
       "      (shortcut): IdentityLayer()\n",
       "    )\n",
       "    (9): MobileInvertedResidualBlock(\n",
       "      (mobile_inverted_conv): MBInvertedConvLayer(\n",
       "        (inverted_bottleneck): Sequential(\n",
       "          (conv): Conv2d(56, 336, kernel_size=(1, 1), stride=(1, 1), bias=False)\n",
       "          (bn): BatchNorm2d(336, eps=0.001, momentum=0.1, affine=True, track_running_stats=True)\n",
       "          (relu): ReLU6(inplace=True)\n",
       "        )\n",
       "        (depth_conv): Sequential(\n",
       "          (conv): Conv2d(336, 336, kernel_size=(7, 7), stride=(2, 2), padding=(3, 3), groups=336, bias=False)\n",
       "          (bn): BatchNorm2d(336, eps=0.001, momentum=0.1, affine=True, track_running_stats=True)\n",
       "          (relu): ReLU6(inplace=True)\n",
       "        )\n",
       "        (point_linear): Sequential(\n",
       "          (conv): Conv2d(336, 112, kernel_size=(1, 1), stride=(1, 1), bias=False)\n",
       "          (bn): BatchNorm2d(112, eps=0.001, momentum=0.1, affine=True, track_running_stats=True)\n",
       "        )\n",
       "      )\n",
       "    )\n",
       "    (10-11): 2 x MobileInvertedResidualBlock(\n",
       "      (mobile_inverted_conv): ZeroLayer()\n",
       "      (shortcut): IdentityLayer()\n",
       "    )\n",
       "    (12): MobileInvertedResidualBlock(\n",
       "      (mobile_inverted_conv): MBInvertedConvLayer(\n",
       "        (inverted_bottleneck): Sequential(\n",
       "          (conv): Conv2d(112, 336, kernel_size=(1, 1), stride=(1, 1), bias=False)\n",
       "          (bn): BatchNorm2d(336, eps=0.001, momentum=0.1, affine=True, track_running_stats=True)\n",
       "          (relu): ReLU6(inplace=True)\n",
       "        )\n",
       "        (depth_conv): Sequential(\n",
       "          (conv): Conv2d(336, 336, kernel_size=(5, 5), stride=(1, 1), padding=(2, 2), groups=336, bias=False)\n",
       "          (bn): BatchNorm2d(336, eps=0.001, momentum=0.1, affine=True, track_running_stats=True)\n",
       "          (relu): ReLU6(inplace=True)\n",
       "        )\n",
       "        (point_linear): Sequential(\n",
       "          (conv): Conv2d(336, 112, kernel_size=(1, 1), stride=(1, 1), bias=False)\n",
       "          (bn): BatchNorm2d(112, eps=0.001, momentum=0.1, affine=True, track_running_stats=True)\n",
       "        )\n",
       "      )\n",
       "      (shortcut): IdentityLayer()\n",
       "    )\n",
       "    (13): MobileInvertedResidualBlock(\n",
       "      (mobile_inverted_conv): MBInvertedConvLayer(\n",
       "        (inverted_bottleneck): Sequential(\n",
       "          (conv): Conv2d(112, 672, kernel_size=(1, 1), stride=(1, 1), bias=False)\n",
       "          (bn): BatchNorm2d(672, eps=0.001, momentum=0.1, affine=True, track_running_stats=True)\n",
       "          (relu): ReLU6(inplace=True)\n",
       "        )\n",
       "        (depth_conv): Sequential(\n",
       "          (conv): Conv2d(672, 672, kernel_size=(5, 5), stride=(1, 1), padding=(2, 2), groups=672, bias=False)\n",
       "          (bn): BatchNorm2d(672, eps=0.001, momentum=0.1, affine=True, track_running_stats=True)\n",
       "          (relu): ReLU6(inplace=True)\n",
       "        )\n",
       "        (point_linear): Sequential(\n",
       "          (conv): Conv2d(672, 128, kernel_size=(1, 1), stride=(1, 1), bias=False)\n",
       "          (bn): BatchNorm2d(128, eps=0.001, momentum=0.1, affine=True, track_running_stats=True)\n",
       "        )\n",
       "      )\n",
       "    )\n",
       "    (14): MobileInvertedResidualBlock(\n",
       "      (mobile_inverted_conv): ZeroLayer()\n",
       "      (shortcut): IdentityLayer()\n",
       "    )\n",
       "    (15): MobileInvertedResidualBlock(\n",
       "      (mobile_inverted_conv): MBInvertedConvLayer(\n",
       "        (inverted_bottleneck): Sequential(\n",
       "          (conv): Conv2d(128, 384, kernel_size=(1, 1), stride=(1, 1), bias=False)\n",
       "          (bn): BatchNorm2d(384, eps=0.001, momentum=0.1, affine=True, track_running_stats=True)\n",
       "          (relu): ReLU6(inplace=True)\n",
       "        )\n",
       "        (depth_conv): Sequential(\n",
       "          (conv): Conv2d(384, 384, kernel_size=(3, 3), stride=(1, 1), padding=(1, 1), groups=384, bias=False)\n",
       "          (bn): BatchNorm2d(384, eps=0.001, momentum=0.1, affine=True, track_running_stats=True)\n",
       "          (relu): ReLU6(inplace=True)\n",
       "        )\n",
       "        (point_linear): Sequential(\n",
       "          (conv): Conv2d(384, 128, kernel_size=(1, 1), stride=(1, 1), bias=False)\n",
       "          (bn): BatchNorm2d(128, eps=0.001, momentum=0.1, affine=True, track_running_stats=True)\n",
       "        )\n",
       "      )\n",
       "      (shortcut): IdentityLayer()\n",
       "    )\n",
       "    (16): MobileInvertedResidualBlock(\n",
       "      (mobile_inverted_conv): MBInvertedConvLayer(\n",
       "        (inverted_bottleneck): Sequential(\n",
       "          (conv): Conv2d(128, 384, kernel_size=(1, 1), stride=(1, 1), bias=False)\n",
       "          (bn): BatchNorm2d(384, eps=0.001, momentum=0.1, affine=True, track_running_stats=True)\n",
       "          (relu): ReLU6(inplace=True)\n",
       "        )\n",
       "        (depth_conv): Sequential(\n",
       "          (conv): Conv2d(384, 384, kernel_size=(5, 5), stride=(1, 1), padding=(2, 2), groups=384, bias=False)\n",
       "          (bn): BatchNorm2d(384, eps=0.001, momentum=0.1, affine=True, track_running_stats=True)\n",
       "          (relu): ReLU6(inplace=True)\n",
       "        )\n",
       "        (point_linear): Sequential(\n",
       "          (conv): Conv2d(384, 128, kernel_size=(1, 1), stride=(1, 1), bias=False)\n",
       "          (bn): BatchNorm2d(128, eps=0.001, momentum=0.1, affine=True, track_running_stats=True)\n",
       "        )\n",
       "      )\n",
       "      (shortcut): IdentityLayer()\n",
       "    )\n",
       "    (17): MobileInvertedResidualBlock(\n",
       "      (mobile_inverted_conv): MBInvertedConvLayer(\n",
       "        (inverted_bottleneck): Sequential(\n",
       "          (conv): Conv2d(128, 768, kernel_size=(1, 1), stride=(1, 1), bias=False)\n",
       "          (bn): BatchNorm2d(768, eps=0.001, momentum=0.1, affine=True, track_running_stats=True)\n",
       "          (relu): ReLU6(inplace=True)\n",
       "        )\n",
       "        (depth_conv): Sequential(\n",
       "          (conv): Conv2d(768, 768, kernel_size=(7, 7), stride=(2, 2), padding=(3, 3), groups=768, bias=False)\n",
       "          (bn): BatchNorm2d(768, eps=0.001, momentum=0.1, affine=True, track_running_stats=True)\n",
       "          (relu): ReLU6(inplace=True)\n",
       "        )\n",
       "        (point_linear): Sequential(\n",
       "          (conv): Conv2d(768, 256, kernel_size=(1, 1), stride=(1, 1), bias=False)\n",
       "          (bn): BatchNorm2d(256, eps=0.001, momentum=0.1, affine=True, track_running_stats=True)\n",
       "        )\n",
       "      )\n",
       "    )\n",
       "    (18-19): 2 x MobileInvertedResidualBlock(\n",
       "      (mobile_inverted_conv): MBInvertedConvLayer(\n",
       "        (inverted_bottleneck): Sequential(\n",
       "          (conv): Conv2d(256, 1536, kernel_size=(1, 1), stride=(1, 1), bias=False)\n",
       "          (bn): BatchNorm2d(1536, eps=0.001, momentum=0.1, affine=True, track_running_stats=True)\n",
       "          (relu): ReLU6(inplace=True)\n",
       "        )\n",
       "        (depth_conv): Sequential(\n",
       "          (conv): Conv2d(1536, 1536, kernel_size=(7, 7), stride=(1, 1), padding=(3, 3), groups=1536, bias=False)\n",
       "          (bn): BatchNorm2d(1536, eps=0.001, momentum=0.1, affine=True, track_running_stats=True)\n",
       "          (relu): ReLU6(inplace=True)\n",
       "        )\n",
       "        (point_linear): Sequential(\n",
       "          (conv): Conv2d(1536, 256, kernel_size=(1, 1), stride=(1, 1), bias=False)\n",
       "          (bn): BatchNorm2d(256, eps=0.001, momentum=0.1, affine=True, track_running_stats=True)\n",
       "        )\n",
       "      )\n",
       "      (shortcut): IdentityLayer()\n",
       "    )\n",
       "    (20): MobileInvertedResidualBlock(\n",
       "      (mobile_inverted_conv): MBInvertedConvLayer(\n",
       "        (inverted_bottleneck): Sequential(\n",
       "          (conv): Conv2d(256, 1536, kernel_size=(1, 1), stride=(1, 1), bias=False)\n",
       "          (bn): BatchNorm2d(1536, eps=0.001, momentum=0.1, affine=True, track_running_stats=True)\n",
       "          (relu): ReLU6(inplace=True)\n",
       "        )\n",
       "        (depth_conv): Sequential(\n",
       "          (conv): Conv2d(1536, 1536, kernel_size=(5, 5), stride=(1, 1), padding=(2, 2), groups=1536, bias=False)\n",
       "          (bn): BatchNorm2d(1536, eps=0.001, momentum=0.1, affine=True, track_running_stats=True)\n",
       "          (relu): ReLU6(inplace=True)\n",
       "        )\n",
       "        (point_linear): Sequential(\n",
       "          (conv): Conv2d(1536, 256, kernel_size=(1, 1), stride=(1, 1), bias=False)\n",
       "          (bn): BatchNorm2d(256, eps=0.001, momentum=0.1, affine=True, track_running_stats=True)\n",
       "        )\n",
       "      )\n",
       "      (shortcut): IdentityLayer()\n",
       "    )\n",
       "    (21): MobileInvertedResidualBlock(\n",
       "      (mobile_inverted_conv): MBInvertedConvLayer(\n",
       "        (inverted_bottleneck): Sequential(\n",
       "          (conv): Conv2d(256, 1536, kernel_size=(1, 1), stride=(1, 1), bias=False)\n",
       "          (bn): BatchNorm2d(1536, eps=0.001, momentum=0.1, affine=True, track_running_stats=True)\n",
       "          (relu): ReLU6(inplace=True)\n",
       "        )\n",
       "        (depth_conv): Sequential(\n",
       "          (conv): Conv2d(1536, 1536, kernel_size=(7, 7), stride=(1, 1), padding=(3, 3), groups=1536, bias=False)\n",
       "          (bn): BatchNorm2d(1536, eps=0.001, momentum=0.1, affine=True, track_running_stats=True)\n",
       "          (relu): ReLU6(inplace=True)\n",
       "        )\n",
       "        (point_linear): Sequential(\n",
       "          (conv): Conv2d(1536, 432, kernel_size=(1, 1), stride=(1, 1), bias=False)\n",
       "          (bn): BatchNorm2d(432, eps=0.001, momentum=0.1, affine=True, track_running_stats=True)\n",
       "        )\n",
       "      )\n",
       "    )\n",
       "  )\n",
       "  (feature_mix_layer): ConvLayer(\n",
       "    (bn): BatchNorm2d(1728, eps=0.001, momentum=0.1, affine=True, track_running_stats=True)\n",
       "    (activation): ReLU6(inplace=True)\n",
       "    (conv): Conv2d(432, 1728, kernel_size=(1, 1), stride=(1, 1), bias=False)\n",
       "  )\n",
       "  (global_avg_pooling): AdaptiveAvgPool2d(output_size=1)\n",
       "  (classifier): Linear(in_features=1728, out_features=10, bias=True)\n",
       ")"
      ]
     },
     "execution_count": 5,
     "metadata": {},
     "output_type": "execute_result"
    }
   ],
   "source": [
    "\n",
    "init_model(num_heads=10,model_name=\"proxyless_nas\",freeze_backbone=False)"
   ]
  },
  {
   "cell_type": "code",
   "execution_count": null,
   "id": "327f9ccc",
   "metadata": {},
   "outputs": [],
   "source": []
  },
  {
   "cell_type": "code",
   "execution_count": 3,
   "id": "75e3c3f1",
   "metadata": {},
   "outputs": [
    {
     "name": "stderr",
     "output_type": "stream",
     "text": [
      "/home/wicaksonolxn/miniconda3/envs/torch_env/lib/python3.10/site-packages/torch/hub.py:293: UserWarning: You are about to download and run code from an untrusted repository. In a future release, this won't be allowed. To add the repository to your trusted list, change the command to {calling_fn}(..., trust_repo=False) and a command prompt will appear asking for an explicit confirmation of trust, or load(..., trust_repo=True), which will assume that the prompt is to be answered with 'yes'. You can also use load(..., trust_repo='check') which will only prompt for confirmation if the repo is not already trusted. This will eventually be the default behaviour\n",
      "  warnings.warn(\n",
      "Downloading: \"https://github.com/mit-han-lab/ProxylessNAS/zipball/master\" to /home/wicaksonolxn/.cache/torch/hub/master.zip\n",
      "Downloading: \"https://raw.githubusercontent.com/han-cai/files/master/proxylessnas/proxyless_gpu.config\" to /home/wicaksonolxn/.torch/proxyless_nas/proxyless_gpu.config\n",
      "Downloading: \"https://raw.githubusercontent.com/han-cai/files/master/proxylessnas/proxyless_gpu.pth\" to /home/wicaksonolxn/.torch/proxyless_nas/proxyless_gpu.pth\n"
     ]
    }
   ],
   "source": [
    "model = torch.hub.load(\n",
    "        'mit-han-lab/ProxylessNAS',\n",
    "        'proxyless_gpu',\n",
    "        pretrained=True\n",
    "    )"
   ]
  },
  {
   "cell_type": "code",
   "execution_count": null,
   "id": "86129ef0",
   "metadata": {},
   "outputs": [],
   "source": []
  },
  {
   "cell_type": "code",
   "execution_count": 1,
   "id": "a3c1ecbd",
   "metadata": {},
   "outputs": [],
   "source": [
    "from get_dataloader import get_dataloaders\n",
    "from model import init_model\n",
    "import timm"
   ]
  },
  {
   "cell_type": "code",
   "execution_count": 2,
   "id": "42a295eb",
   "metadata": {},
   "outputs": [
    {
     "data": {
      "application/vnd.jupyter.widget-view+json": {
       "model_id": "a7f11e9cc08d4766aa493ab2cce42f33",
       "version_major": 2,
       "version_minor": 0
      },
      "text/plain": [
       "model.safetensors:   0%|          | 0.00/21.9M [00:00<?, ?B/s]"
      ]
     },
     "metadata": {},
     "output_type": "display_data"
    },
    {
     "data": {
      "text/plain": [
       "(Compose(\n",
       "     RandomResizedCropAndInterpolation(size=(240, 240), scale=(0.08, 1.0), ratio=(0.75, 1.3333), interpolation=bicubic)\n",
       "     RandomHorizontalFlip(p=0.5)\n",
       "     ColorJitter(brightness=(0.6, 1.4), contrast=(0.6, 1.4), saturation=(0.6, 1.4), hue=None)\n",
       "     MaybeToTensor()\n",
       "     Normalize(mean=tensor([0.5000, 0.5000, 0.5000]), std=tensor([0.5000, 0.5000, 0.5000]))\n",
       " ),\n",
       " Compose(\n",
       "     Resize(size=272, interpolation=bicubic, max_size=None, antialias=True)\n",
       "     CenterCrop(size=(240, 240))\n",
       "     MaybeToTensor()\n",
       "     Normalize(mean=tensor([0.5000, 0.5000, 0.5000]), std=tensor([0.5000, 0.5000, 0.5000]))\n",
       " ))"
      ]
     },
     "execution_count": 2,
     "metadata": {},
     "output_type": "execute_result"
    }
   ],
   "source": [
    "model = timm.create_model(\"tf_efficientnet_lite1.in1k\", pretrained=True)\n",
    "model.to(\"cuda\")\n",
    "data_cfg = timm.data.resolve_model_data_config(model)\n",
    "train_tf = timm.data.create_transform(**data_cfg, is_training=True)\n",
    "val_tf = timm.data.create_transform(**data_cfg, is_training=False)\n",
    "del model\n",
    "train_tf, val_tf"
   ]
  },
  {
   "cell_type": "code",
   "execution_count": 3,
   "id": "5c917c72",
   "metadata": {},
   "outputs": [
    {
     "data": {
      "text/plain": [
       "Compose(\n",
       "    RandomResizedCropAndInterpolation(size=(240, 240), scale=(0.08, 1.0), ratio=(0.75, 1.3333), interpolation=bicubic)\n",
       "    RandomHorizontalFlip(p=0.5)\n",
       "    ColorJitter(brightness=(0.6, 1.4), contrast=(0.6, 1.4), saturation=(0.6, 1.4), hue=None)\n",
       "    MaybeToTensor()\n",
       "    Normalize(mean=tensor([0.5000, 0.5000, 0.5000]), std=tensor([0.5000, 0.5000, 0.5000]))\n",
       ")"
      ]
     },
     "execution_count": 3,
     "metadata": {},
     "output_type": "execute_result"
    }
   ],
   "source": [
    "train_tf\n"
   ]
  },
  {
   "cell_type": "code",
   "execution_count": 13,
   "id": "31591096",
   "metadata": {},
   "outputs": [
    {
     "name": "stdout",
     "output_type": "stream",
     "text": [
      "Loaded 3169/793/991 samples across 10 classes.\n"
     ]
    }
   ],
   "source": [
    "\n",
    "train,val, test_loader, _ = get_dataloaders(data_path=\"./data/aggregated/\")"
   ]
  },
  {
   "cell_type": "code",
   "execution_count": null,
   "id": "393605e9",
   "metadata": {},
   "outputs": [],
   "source": []
  },
  {
   "cell_type": "markdown",
   "id": "a26c1eed",
   "metadata": {},
   "source": []
  },
  {
   "cell_type": "code",
   "execution_count": null,
   "id": "92dd2d97",
   "metadata": {},
   "outputs": [
    {
     "data": {
      "image/png": "[encoded data removed]",
      "text/plain": [
       "<Figure size 640x480 with 1 Axes>"
      ]
     },
     "metadata": {},
     "output_type": "display_data"
    },
    {
     "ename": "",
     "evalue": "",
     "output_type": "error",
     "traceback": [
      "\u001b[1;31mThe Kernel crashed while executing code in the current cell or a previous cell. \n",
      "\u001b[1;31mPlease review the code in the cell(s) to identify a possible cause of the failure. \n",
      "\u001b[1;31mClick <a href='https://aka.ms/vscodeJupyterKernelCrash'>here</a> for more info. \n",
      "\u001b[1;31mView Jupyter <a href='command:jupyter.viewOutput'>log</a> for further details."
     ]
    }
   ],
   "source": [
    "import matplotlib.pyplot as plt\n",
    "import numpy as np\n",
    "\n",
    "def denormalize(tensor, mean=(0.485, 0.456, 0.406), std=(0.229, 0.224, 0.225)):\n",
    "    tensor = tensor.clone().detach().cpu()  \n",
    "    tensor = tensor.permute(1, 2, 0)      \n",
    "    tensor = tensor.numpy()                 \n",
    "    \n",
    "    # Denormalize\n",
    "    tensor = tensor * std + mean\n",
    "    tensor = np.clip(tensor, 0, 1)          \n",
    "    return tensor\n",
    "def imshow(img, title=None):\n",
    "    \"\"\"Display image for a Tensor.\"\"\"\n",
    "    img = denormalize(img)\n",
    "    plt.imshow(img)\n",
    "    if title is not None:\n",
    "        plt.title(title)\n",
    "    plt.axis('off')\n",
    "images, labels = next(iter(train))\n",
    "\n",
    "imshow(images[0])\n",
    "plt.show()"
   ]
  },
  {
   "cell_type": "code",
   "execution_count": null,
   "id": "9554166a",
   "metadata": {},
   "outputs": [],
   "source": []
  },
  {
   "cell_type": "code",
   "execution_count": null,
   "id": "d156eeca",
   "metadata": {},
   "outputs": [],
   "source": []
  }
 ],
 "metadata": {
  "kernelspec": {
   "display_name": "torch_env",
   "language": "python",
   "name": "python3"
  },
  "language_info": {
   "codemirror_mode": {
    "name": "ipython",
    "version": 3
   },
   "file_extension": ".py",
   "mimetype": "text/x-python",
   "name": "python",
   "nbconvert_exporter": "python",
   "pygments_lexer": "ipython3",
   "version": "3.10.16"
  }
 },
 "nbformat": 4,
 "nbformat_minor": 5
}
